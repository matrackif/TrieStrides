{
 "cells": [
  {
   "cell_type": "code",
   "execution_count": 1,
   "metadata": {},
   "outputs": [],
   "source": [
    "import pandas as pd\n",
    "import sys\n",
    "import os\n",
    "import matplotlib.pyplot as plt\n",
    "import numpy\n",
    "from mpl_toolkits import mplot3d\n",
    "from matplotlib import cm\n",
    "sys.path.append(\"FixedStrides\")\n",
    "from main import *\n",
    "results_wolant = pd.read_csv('ip32_wolant_results.csv', sep=';')\n",
    "results_fst = pd.read_csv('ip32_fst_results.csv', sep=';')\n",
    "results_equal_dist = pd.read_csv('ip32_equal_dist_results.csv', sep=';')\n",
    "results_random = pd.read_csv('ip32_random_results.csv', sep=';')\n",
    "# results_au = pd.read_csv('ipResults_home_gtx980_australia.csv', sep=';')\n",
    "# results_au_32bit = pd.read_csv('ip_32bit_au.csv', sep=';')\n",
    "# results_tokyo = pd.read_csv('ip_32bit_tokyo.csv', sep=';')\n",
    "# results_au_32bit.drop(results_au_32bit.columns[len(results_au_32bit.columns)-1], axis=1, inplace=True)  # delete NaN column\n",
    "# results_tokyo.drop(results_tokyo.columns[len(results_tokyo.columns)-1], axis=1, inplace=True)  # delete NaN column"
   ]
  },
  {
   "cell_type": "code",
   "execution_count": 2,
   "metadata": {},
   "outputs": [],
   "source": [
    "def plot_prefix_distribution(prefixes):\n",
    "    lengths = utils.get_lengths(prefixes)\n",
    "    plt.bar(range(1, len(lengths) + 1), lengths, align='center')\n",
    "    plt.xlabel('Prefix length in bits')\n",
    "    plt.ylabel('Num occurrences')\n",
    "    plt.title('Prefix length distribution')\n",
    "    plt.show()"
   ]
  },
  {
   "cell_type": "code",
   "execution_count": 3,
   "metadata": {},
   "outputs": [
    {
     "name": "stdout",
     "output_type": "stream",
     "text": [
      "Read 576846 prefixes from file in 7.528549671173096 seconds\n"
     ]
    }
   ],
   "source": [
    "# prefixes_au = utils.get_prefixes_from_file(file_name='FixedStrides/data/data-raw-table_australia_012016.txt')\n",
    "prefixes_tokyo = utils.get_prefixes_from_file(file_name='FixedStrides/data/data-raw-table_tokyo_012016.txt')\n",
    "node_counts_tokyo = utils.get_node_counts(prefixes_tokyo)"
   ]
  },
  {
   "cell_type": "code",
   "execution_count": 4,
   "metadata": {},
   "outputs": [
    {
     "data": {
      "image/png": "[encoded data removed]",
      "text/plain": [
       "<Figure size 432x288 with 1 Axes>"
      ]
     },
     "metadata": {
      "needs_background": "light"
     },
     "output_type": "display_data"
    }
   ],
   "source": [
    "# plot_prefix_distribution(prefixes_au)\n",
    "plot_prefix_distribution(prefixes_tokyo)"
   ]
  },
  {
   "cell_type": "code",
   "execution_count": 5,
   "metadata": {},
   "outputs": [],
   "source": [
    "def get_empty_node_stats(tree_levels, strides):\n",
    "    # Calculate number of empty child pointers in all nodes at each level\n",
    "    # For example, if we have 100 nodes in level 1 (second level)\n",
    "    # And the config for root node is 8, then it means the root node has 2^8 - 100 empty/null child pointers\n",
    "    # TODO move this to utils.get_stats()\n",
    "    num_empty_pointers_per_lvl = []\n",
    "    percentage_empty_pointers_per_lvl = []\n",
    "    total_num_pointers = 0\n",
    "    for i in range(len(tree_levels) - 1):\n",
    "        total_num_pointers_in_curr_lvl = tree_levels[i] * (2 ** strides[i])\n",
    "        num_empty_pointers_in_curr_lvl = total_num_pointers_in_curr_lvl - tree_levels[i + 1]\n",
    "        total_num_pointers += total_num_pointers_in_curr_lvl\n",
    "        num_empty_pointers_per_lvl.append(num_empty_pointers_in_curr_lvl)\n",
    "        percentage_empty_pointers_per_lvl.append(float(round(100 * num_empty_pointers_in_curr_lvl / total_num_pointers_in_curr_lvl, 2)))\n",
    "    total_empty_pointer_percentage = float(round(100 * sum(num_empty_pointers_per_lvl) / total_num_pointers, 2))\n",
    "    return num_empty_pointers_per_lvl, percentage_empty_pointers_per_lvl, total_empty_pointer_percentage\n",
    "        \n",
    "\n",
    "\n",
    "def append_stats(row: pd.Series, nodes: list):\n",
    "    strides = row['Config'].replace('{', ' ').replace('}',' ').replace(',',' ').split()\n",
    "    strides = [int(x) for x in strides]\n",
    "    tree_levels = row['TreeLevels'].replace('{', ' ').replace('}',' ').replace(',',' ').split()\n",
    "    tree_levels = [int(x) for x in tree_levels]\n",
    "    num_empty_pointers_per_lvl, percentage_empty_pointers_per_lvl, total_empty_pointer_percentage = get_empty_node_stats(tree_levels, strides)\n",
    "    num_empty_pointers_per_lvl = str(num_empty_pointers_per_lvl)\n",
    "    percentage_empty_pointers_per_lvl = str(percentage_empty_pointers_per_lvl)\n",
    "    tmp, strides_nodes, cost, percent = utils.get_stats(nodes, strides, ignore_last_level=True)\n",
    "    build_and_find = float(row['Build']) + float(row['Find'])\n",
    "    build_and_match = float(row['Build']) + float(row['Match'])\n",
    "    match_and_find = float(row['Match']) + float(row['Find'])\n",
    "    return pd.Series([cost, percent, build_and_find, build_and_match, match_and_find, num_empty_pointers_per_lvl, percentage_empty_pointers_per_lvl, total_empty_pointer_percentage])\n",
    "\n",
    "def append_stats_to_df(df: pd.DataFrame):\n",
    "    newcol_names = ['Cost', 'Percent', 'BuildAndFind', 'BuildAndMatch', 'MatchAndFind', 'EmptyPointerLevels', 'PercentEmptyPointerLevels', 'TotalEmptyPointerPercentage']\n",
    "    # For now assume Tokyo dataset\n",
    "    newcols = df.apply(lambda row: append_stats(row, node_counts_tokyo), axis=1)\n",
    "    newcols.columns = newcol_names\n",
    "    return df.join(newcols)"
   ]
  },
  {
   "cell_type": "code",
   "execution_count": 6,
   "metadata": {},
   "outputs": [],
   "source": [
    "results_wolant = append_stats_to_df(results_wolant)\n",
    "results_fst = append_stats_to_df(results_fst)\n",
    "results_equal_dist = append_stats_to_df(results_equal_dist)\n",
    "results_random = append_stats_to_df(results_random)"
   ]
  },
  {
   "cell_type": "code",
   "execution_count": 7,
   "metadata": {},
   "outputs": [],
   "source": [
    "# results_wolant = results_wolant.sort_values('RandomMatch')\n",
    "# results_wolant[['Config', 'Match', 'RandomMatch', 'Find', 'MatchAndFind', 'Build', 'TreeMemoryUniqueOnly', 'Cost', 'Percent', 'ChildrenMemory', 'ContainerStartsMemory', 'ContainerLengthsMemory']]\n",
    "\n",
    "# results_fst = results_fst.sort_values('RandomMatch')\n",
    "# results_fst[['Config', 'Match', 'RandomMatch', 'Find', 'MatchAndFind', 'Build', 'TreeMemoryUniqueOnly', 'Cost', 'Percent', 'ChildrenMemory', 'ContainerStartsMemory', 'ContainerLengthsMemory']]\n",
    "\n",
    "# results_equal_dist = results_equal_dist.sort_values('Match')\n",
    "# results_equal_dist[['Config', 'Match', 'Find', 'MatchAndFind', 'Build', 'TreeMemoryUniqueOnly', 'Cost', 'Percent', 'ChildrenMemory', 'ContainerStartsMemory', 'ContainerLengthsMemory']]"
   ]
  },
  {
   "cell_type": "code",
   "execution_count": 8,
   "metadata": {},
   "outputs": [
    {
     "data": {
      "text/html": [
       "<div>\n",
       "<style scoped>\n",
       "    .dataframe tbody tr th:only-of-type {\n",
       "        vertical-align: middle;\n",
       "    }\n",
       "\n",
       "    .dataframe tbody tr th {\n",
       "        vertical-align: top;\n",
       "    }\n",
       "\n",
       "    .dataframe thead th {\n",
       "        text-align: right;\n",
       "    }\n",
       "</style>\n",
       "<table border=\"1\" class=\"dataframe\">\n",
       "  <thead>\n",
       "    <tr style=\"text-align: right;\">\n",
       "      <th></th>\n",
       "      <th>Config</th>\n",
       "      <th>TreeMemoryUniqueOnly</th>\n",
       "      <th>MaxItemsPerLevel</th>\n",
       "      <th>PercentEmptyPointerLevels</th>\n",
       "      <th>RandomMatch</th>\n",
       "      <th>Match</th>\n",
       "      <th>Find</th>\n",
       "      <th>ItemsPerLevel</th>\n",
       "      <th>Build</th>\n",
       "      <th>EmptyPointerLevels</th>\n",
       "    </tr>\n",
       "  </thead>\n",
       "  <tbody>\n",
       "    <tr>\n",
       "      <th>12</th>\n",
       "      <td>{1, 1, 1, 1, 1, 1, 1, 1, 1, 1, 1, 1, 1, 1, 1, ...</td>\n",
       "      <td>3551560</td>\n",
       "      <td>316089</td>\n",
       "      <td>[0.0, 0.0, 0.0, 12.5, 10.71, 36.0, 40.62, 46.0...</td>\n",
       "      <td>0.788544</td>\n",
       "      <td>2.069440</td>\n",
       "      <td>8.60262</td>\n",
       "      <td>{0, 0, 0, 0, 0, 0, 0, 16, 13, 36, 100, 265, 50...</td>\n",
       "      <td>81.7632</td>\n",
       "      <td>[0, 0, 0, 2, 3, 18, 26, 35, 30, 34, 33, 48, 72...</td>\n",
       "    </tr>\n",
       "    <tr>\n",
       "      <th>3</th>\n",
       "      <td>{8, 8, 2, 2, 2, 2, 8}</td>\n",
       "      <td>2971824</td>\n",
       "      <td>371291</td>\n",
       "      <td>[83.98, 91.0, 48.92, 34.26, 14.37, 97.76]</td>\n",
       "      <td>8.456000</td>\n",
       "      <td>1.036160</td>\n",
       "      <td>26.66190</td>\n",
       "      <td>{16, 16680, 20015, 63408, 103872, 371291, 1564, }</td>\n",
       "      <td>24.3714</td>\n",
       "      <td>[215, 9551, 1849, 2646, 2918, 68017]</td>\n",
       "    </tr>\n",
       "    <tr>\n",
       "      <th>6</th>\n",
       "      <td>{8, 8, 4, 2, 2, 8}</td>\n",
       "      <td>2970800</td>\n",
       "      <td>371291</td>\n",
       "      <td>[83.98, 91.0, 66.42, 14.37, 97.76]</td>\n",
       "      <td>8.341500</td>\n",
       "      <td>0.995936</td>\n",
       "      <td>34.77490</td>\n",
       "      <td>{16, 16680, 83423, 103872, 371291, 1564, }</td>\n",
       "      <td>22.9640</td>\n",
       "      <td>[215, 9551, 10042, 2918, 68017]</td>\n",
       "    </tr>\n",
       "    <tr>\n",
       "      <th>7</th>\n",
       "      <td>{8, 4, 4, 2, 2, 2, 2, 8}</td>\n",
       "      <td>2944456</td>\n",
       "      <td>371291</td>\n",
       "      <td>[83.98, 74.7, 64.42, 48.92, 34.26, 14.37, 97.76]</td>\n",
       "      <td>0.681664</td>\n",
       "      <td>1.159200</td>\n",
       "      <td>27.94750</td>\n",
       "      <td>{16, 414, 16266, 20015, 63408, 103872, 371291,...</td>\n",
       "      <td>25.7148</td>\n",
       "      <td>[215, 490, 1711, 1849, 2646, 2918, 68017]</td>\n",
       "    </tr>\n",
       "    <tr>\n",
       "      <th>11</th>\n",
       "      <td>{8, 2, 2, 2, 2, 2, 2, 2, 2, 8}</td>\n",
       "      <td>2946048</td>\n",
       "      <td>371291</td>\n",
       "      <td>[83.98, 57.32, 40.71, 38.7, 41.95, 48.92, 34.2...</td>\n",
       "      <td>0.605280</td>\n",
       "      <td>1.193700</td>\n",
       "      <td>26.66400</td>\n",
       "      <td>{16, 49, 365, 1522, 14744, 20015, 63408, 10387...</td>\n",
       "      <td>36.3263</td>\n",
       "      <td>[215, 94, 114, 257, 683, 1849, 2646, 2918, 68017]</td>\n",
       "    </tr>\n",
       "    <tr>\n",
       "      <th>2</th>\n",
       "      <td>{8, 4, 4, 4, 4, 8}</td>\n",
       "      <td>2769680</td>\n",
       "      <td>475163</td>\n",
       "      <td>[83.98, 74.7, 64.42, 66.42, 98.08]</td>\n",
       "      <td>0.733536</td>\n",
       "      <td>1.687010</td>\n",
       "      <td>36.58870</td>\n",
       "      <td>{16, 414, 16266, 83423, 475163, 1564, }</td>\n",
       "      <td>22.6215</td>\n",
       "      <td>[215, 490, 1711, 10042, 79689]</td>\n",
       "    </tr>\n",
       "    <tr>\n",
       "      <th>5</th>\n",
       "      <td>{8, 8, 4, 4, 8}</td>\n",
       "      <td>2797048</td>\n",
       "      <td>475163</td>\n",
       "      <td>[83.98, 91.0, 66.42, 98.08]</td>\n",
       "      <td>8.314980</td>\n",
       "      <td>1.550500</td>\n",
       "      <td>35.41400</td>\n",
       "      <td>{16, 16680, 83423, 475163, 1564, }</td>\n",
       "      <td>19.1387</td>\n",
       "      <td>[215, 9551, 10042, 79689]</td>\n",
       "    </tr>\n",
       "    <tr>\n",
       "      <th>10</th>\n",
       "      <td>{4, 5, 4, 5, 6, 4, 2, 2}</td>\n",
       "      <td>2972080</td>\n",
       "      <td>538571</td>\n",
       "      <td>[12.5, 88.39, 68.75, 76.79, 98.74, 99.82, 88.59]</td>\n",
       "      <td>1.028100</td>\n",
       "      <td>3.749570</td>\n",
       "      <td>38.37330</td>\n",
       "      <td>{0, 29, 907, 35775, 538571, 1518, 25, 21, }</td>\n",
       "      <td>27.8286</td>\n",
       "      <td>[2, 396, 572, 6389, 122025, 24898, 163]</td>\n",
       "    </tr>\n",
       "    <tr>\n",
       "      <th>1</th>\n",
       "      <td>{8, 8, 8, 8}</td>\n",
       "      <td>3338592</td>\n",
       "      <td>558586</td>\n",
       "      <td>[83.98, 91.0, 99.36]</td>\n",
       "      <td>9.956900</td>\n",
       "      <td>11.093200</td>\n",
       "      <td>60.34080</td>\n",
       "      <td>{16, 16680, 558586, 1564, }</td>\n",
       "      <td>20.4145</td>\n",
       "      <td>[215, 9551, 240361]</td>\n",
       "    </tr>\n",
       "    <tr>\n",
       "      <th>4</th>\n",
       "      <td>{16, 8, 8}</td>\n",
       "      <td>3557360</td>\n",
       "      <td>558586</td>\n",
       "      <td>[98.56, 99.36]</td>\n",
       "      <td>33.694800</td>\n",
       "      <td>10.827800</td>\n",
       "      <td>60.46810</td>\n",
       "      <td>{16696, 558586, 1564, }</td>\n",
       "      <td>15.2561</td>\n",
       "      <td>[64591, 240361]</td>\n",
       "    </tr>\n",
       "    <tr>\n",
       "      <th>9</th>\n",
       "      <td>{4, 4, 4, 4, 8, 8}</td>\n",
       "      <td>3311312</td>\n",
       "      <td>558586</td>\n",
       "      <td>[12.5, 81.7, 74.7, 64.42, 99.36]</td>\n",
       "      <td>2.492610</td>\n",
       "      <td>11.113500</td>\n",
       "      <td>60.63440</td>\n",
       "      <td>{0, 16, 414, 16266, 558586, 1564, }</td>\n",
       "      <td>22.8818</td>\n",
       "      <td>[2, 183, 490, 1711, 240361]</td>\n",
       "    </tr>\n",
       "    <tr>\n",
       "      <th>0</th>\n",
       "      <td>{16, 16}</td>\n",
       "      <td>2577168</td>\n",
       "      <td>560150</td>\n",
       "      <td>[98.56]</td>\n",
       "      <td>35.646800</td>\n",
       "      <td>11.455400</td>\n",
       "      <td>64.99660</td>\n",
       "      <td>{16696, 560150, }</td>\n",
       "      <td>13.5159</td>\n",
       "      <td>[64591]</td>\n",
       "    </tr>\n",
       "    <tr>\n",
       "      <th>8</th>\n",
       "      <td>{8, 8, 16}</td>\n",
       "      <td>2358400</td>\n",
       "      <td>560150</td>\n",
       "      <td>[83.98, 91.0]</td>\n",
       "      <td>9.184960</td>\n",
       "      <td>11.506700</td>\n",
       "      <td>61.07590</td>\n",
       "      <td>{16, 16680, 560150, }</td>\n",
       "      <td>16.4015</td>\n",
       "      <td>[215, 9551]</td>\n",
       "    </tr>\n",
       "  </tbody>\n",
       "</table>\n",
       "</div>"
      ],
      "text/plain": [
       "                                               Config  TreeMemoryUniqueOnly  \\\n",
       "12  {1, 1, 1, 1, 1, 1, 1, 1, 1, 1, 1, 1, 1, 1, 1, ...               3551560   \n",
       "3                               {8, 8, 2, 2, 2, 2, 8}               2971824   \n",
       "6                                  {8, 8, 4, 2, 2, 8}               2970800   \n",
       "7                            {8, 4, 4, 2, 2, 2, 2, 8}               2944456   \n",
       "11                     {8, 2, 2, 2, 2, 2, 2, 2, 2, 8}               2946048   \n",
       "2                                  {8, 4, 4, 4, 4, 8}               2769680   \n",
       "5                                     {8, 8, 4, 4, 8}               2797048   \n",
       "10                           {4, 5, 4, 5, 6, 4, 2, 2}               2972080   \n",
       "1                                        {8, 8, 8, 8}               3338592   \n",
       "4                                          {16, 8, 8}               3557360   \n",
       "9                                  {4, 4, 4, 4, 8, 8}               3311312   \n",
       "0                                            {16, 16}               2577168   \n",
       "8                                          {8, 8, 16}               2358400   \n",
       "\n",
       "    MaxItemsPerLevel                          PercentEmptyPointerLevels  \\\n",
       "12            316089  [0.0, 0.0, 0.0, 12.5, 10.71, 36.0, 40.62, 46.0...   \n",
       "3             371291          [83.98, 91.0, 48.92, 34.26, 14.37, 97.76]   \n",
       "6             371291                 [83.98, 91.0, 66.42, 14.37, 97.76]   \n",
       "7             371291   [83.98, 74.7, 64.42, 48.92, 34.26, 14.37, 97.76]   \n",
       "11            371291  [83.98, 57.32, 40.71, 38.7, 41.95, 48.92, 34.2...   \n",
       "2             475163                 [83.98, 74.7, 64.42, 66.42, 98.08]   \n",
       "5             475163                        [83.98, 91.0, 66.42, 98.08]   \n",
       "10            538571   [12.5, 88.39, 68.75, 76.79, 98.74, 99.82, 88.59]   \n",
       "1             558586                               [83.98, 91.0, 99.36]   \n",
       "4             558586                                     [98.56, 99.36]   \n",
       "9             558586                   [12.5, 81.7, 74.7, 64.42, 99.36]   \n",
       "0             560150                                            [98.56]   \n",
       "8             560150                                      [83.98, 91.0]   \n",
       "\n",
       "    RandomMatch      Match      Find  \\\n",
       "12     0.788544   2.069440   8.60262   \n",
       "3      8.456000   1.036160  26.66190   \n",
       "6      8.341500   0.995936  34.77490   \n",
       "7      0.681664   1.159200  27.94750   \n",
       "11     0.605280   1.193700  26.66400   \n",
       "2      0.733536   1.687010  36.58870   \n",
       "5      8.314980   1.550500  35.41400   \n",
       "10     1.028100   3.749570  38.37330   \n",
       "1      9.956900  11.093200  60.34080   \n",
       "4     33.694800  10.827800  60.46810   \n",
       "9      2.492610  11.113500  60.63440   \n",
       "0     35.646800  11.455400  64.99660   \n",
       "8      9.184960  11.506700  61.07590   \n",
       "\n",
       "                                        ItemsPerLevel    Build  \\\n",
       "12  {0, 0, 0, 0, 0, 0, 0, 16, 13, 36, 100, 265, 50...  81.7632   \n",
       "3   {16, 16680, 20015, 63408, 103872, 371291, 1564, }  24.3714   \n",
       "6          {16, 16680, 83423, 103872, 371291, 1564, }  22.9640   \n",
       "7   {16, 414, 16266, 20015, 63408, 103872, 371291,...  25.7148   \n",
       "11  {16, 49, 365, 1522, 14744, 20015, 63408, 10387...  36.3263   \n",
       "2             {16, 414, 16266, 83423, 475163, 1564, }  22.6215   \n",
       "5                  {16, 16680, 83423, 475163, 1564, }  19.1387   \n",
       "10        {0, 29, 907, 35775, 538571, 1518, 25, 21, }  27.8286   \n",
       "1                         {16, 16680, 558586, 1564, }  20.4145   \n",
       "4                             {16696, 558586, 1564, }  15.2561   \n",
       "9                 {0, 16, 414, 16266, 558586, 1564, }  22.8818   \n",
       "0                                   {16696, 560150, }  13.5159   \n",
       "8                               {16, 16680, 560150, }  16.4015   \n",
       "\n",
       "                                   EmptyPointerLevels  \n",
       "12  [0, 0, 0, 2, 3, 18, 26, 35, 30, 34, 33, 48, 72...  \n",
       "3                [215, 9551, 1849, 2646, 2918, 68017]  \n",
       "6                     [215, 9551, 10042, 2918, 68017]  \n",
       "7           [215, 490, 1711, 1849, 2646, 2918, 68017]  \n",
       "11  [215, 94, 114, 257, 683, 1849, 2646, 2918, 68017]  \n",
       "2                      [215, 490, 1711, 10042, 79689]  \n",
       "5                           [215, 9551, 10042, 79689]  \n",
       "10            [2, 396, 572, 6389, 122025, 24898, 163]  \n",
       "1                                 [215, 9551, 240361]  \n",
       "4                                     [64591, 240361]  \n",
       "9                         [2, 183, 490, 1711, 240361]  \n",
       "0                                             [64591]  \n",
       "8                                         [215, 9551]  "
      ]
     },
     "execution_count": 8,
     "metadata": {},
     "output_type": "execute_result"
    }
   ],
   "source": [
    "results_wolant = results_wolant.sort_values('MaxItemsPerLevel')\n",
    "results_wolant[['Config', 'TreeMemoryUniqueOnly', 'MaxItemsPerLevel', 'PercentEmptyPointerLevels', 'RandomMatch', 'Match', 'Find', 'ItemsPerLevel', 'Build', 'EmptyPointerLevels']]"
   ]
  },
  {
   "cell_type": "code",
   "execution_count": 9,
   "metadata": {},
   "outputs": [
    {
     "data": {
      "text/html": [
       "<div>\n",
       "<style scoped>\n",
       "    .dataframe tbody tr th:only-of-type {\n",
       "        vertical-align: middle;\n",
       "    }\n",
       "\n",
       "    .dataframe tbody tr th {\n",
       "        vertical-align: top;\n",
       "    }\n",
       "\n",
       "    .dataframe thead th {\n",
       "        text-align: right;\n",
       "    }\n",
       "</style>\n",
       "<table border=\"1\" class=\"dataframe\">\n",
       "  <thead>\n",
       "    <tr style=\"text-align: right;\">\n",
       "      <th></th>\n",
       "      <th>Config</th>\n",
       "      <th>TreeMemoryUniqueOnly</th>\n",
       "      <th>RandomMatch</th>\n",
       "      <th>Match</th>\n",
       "      <th>Find</th>\n",
       "      <th>ItemsPerLevel</th>\n",
       "      <th>MaxItemsPerLevel</th>\n",
       "      <th>Percent</th>\n",
       "      <th>PercentEmptyPointerLevels</th>\n",
       "      <th>Build</th>\n",
       "      <th>TreeLevels</th>\n",
       "      <th>EmptyPointerLevels</th>\n",
       "    </tr>\n",
       "  </thead>\n",
       "  <tbody>\n",
       "    <tr>\n",
       "      <th>3</th>\n",
       "      <td>{18, 3, 2, 1, 8}</td>\n",
       "      <td>4206824</td>\n",
       "      <td>69.273300</td>\n",
       "      <td>0.829888</td>\n",
       "      <td>45.16650</td>\n",
       "      <td>{36711, 103489, 118993, 316089, 1564, }</td>\n",
       "      <td>316089</td>\n",
       "      <td>99.444746</td>\n",
       "      <td>[99.26, 40.53, 8.08, 97.69]</td>\n",
       "      <td>20.7005</td>\n",
       "      <td>{1,1931,9187,33779,1559,}</td>\n",
       "      <td>[260213, 6261, 2969, 65999]</td>\n",
       "    </tr>\n",
       "    <tr>\n",
       "      <th>4</th>\n",
       "      <td>{17, 3, 2, 1, 1, 8}</td>\n",
       "      <td>3837824</td>\n",
       "      <td>45.814400</td>\n",
       "      <td>0.861216</td>\n",
       "      <td>35.47250</td>\n",
       "      <td>{24107, 76012, 103872, 55202, 316089, 1564, }</td>\n",
       "      <td>316089</td>\n",
       "      <td>93.501291</td>\n",
       "      <td>[98.99, 51.91, 14.37, 2.9, 97.69]</td>\n",
       "      <td>23.1034</td>\n",
       "      <td>{1,1320,5078,17394,33779,1559,}</td>\n",
       "      <td>[129752, 5482, 2918, 1009, 65999]</td>\n",
       "    </tr>\n",
       "    <tr>\n",
       "      <th>5</th>\n",
       "      <td>{17, 3, 2, 1, 1, 3, 5}</td>\n",
       "      <td>3888256</td>\n",
       "      <td>46.306700</td>\n",
       "      <td>0.874912</td>\n",
       "      <td>35.77480</td>\n",
       "      <td>{24107, 76012, 103872, 55202, 316089, 1501, 63, }</td>\n",
       "      <td>316089</td>\n",
       "      <td>93.986481</td>\n",
       "      <td>[98.99, 51.91, 14.37, 2.9, 97.69, 99.49]</td>\n",
       "      <td>24.9575</td>\n",
       "      <td>{1,1320,5078,17394,33779,1559,63,}</td>\n",
       "      <td>[129752, 5482, 2918, 1009, 65999, 12409]</td>\n",
       "    </tr>\n",
       "    <tr>\n",
       "      <th>6</th>\n",
       "      <td>{13, 4, 3, 2, 1, 1, 3, 5}</td>\n",
       "      <td>3415496</td>\n",
       "      <td>2.819010</td>\n",
       "      <td>0.942112</td>\n",
       "      <td>31.45560</td>\n",
       "      <td>{936, 23171, 76012, 103872, 55202, 316089, 150...</td>\n",
       "      <td>316089</td>\n",
       "      <td>91.418692</td>\n",
       "      <td>[96.83, 68.27, 51.91, 14.37, 2.9, 97.69, 99.49]</td>\n",
       "      <td>27.4011</td>\n",
       "      <td>{1,260,1320,5078,17394,33779,1559,63,}</td>\n",
       "      <td>[7932, 2840, 5482, 2918, 1009, 65999, 12409]</td>\n",
       "    </tr>\n",
       "    <tr>\n",
       "      <th>7</th>\n",
       "      <td>{12, 4, 2, 2, 2, 1, 1, 3, 5}</td>\n",
       "      <td>3408608</td>\n",
       "      <td>1.876420</td>\n",
       "      <td>1.011780</td>\n",
       "      <td>26.86590</td>\n",
       "      <td>{430, 16266, 20015, 63408, 103872, 55202, 3160...</td>\n",
       "      <td>316089</td>\n",
       "      <td>90.352937</td>\n",
       "      <td>[95.95, 64.42, 48.92, 34.26, 14.37, 2.9, 97.69...</td>\n",
       "      <td>31.4056</td>\n",
       "      <td>{1,166,945,1931,5078,17394,33779,1559,63,}</td>\n",
       "      <td>[3930, 1711, 1849, 2646, 2918, 1009, 65999, 12...</td>\n",
       "    </tr>\n",
       "    <tr>\n",
       "      <th>8</th>\n",
       "      <td>{12, 4, 2, 2, 2, 1, 1, 2, 2, 4}</td>\n",
       "      <td>3394176</td>\n",
       "      <td>1.803230</td>\n",
       "      <td>1.084670</td>\n",
       "      <td>26.55230</td>\n",
       "      <td>{430, 16266, 20015, 63408, 103872, 55202, 3160...</td>\n",
       "      <td>316089</td>\n",
       "      <td>90.201315</td>\n",
       "      <td>[95.95, 64.42, 48.92, 34.26, 14.37, 2.9, 97.69...</td>\n",
       "      <td>30.8613</td>\n",
       "      <td>{1,166,945,1931,5078,17394,33779,1559,442,46,}</td>\n",
       "      <td>[3930, 1711, 1849, 2646, 2918, 1009, 65999, 57...</td>\n",
       "    </tr>\n",
       "    <tr>\n",
       "      <th>9</th>\n",
       "      <td>{12, 4, 2, 2, 2, 1, 1, 2, 1, 2, 3}</td>\n",
       "      <td>3392064</td>\n",
       "      <td>1.812420</td>\n",
       "      <td>1.108640</td>\n",
       "      <td>26.88080</td>\n",
       "      <td>{430, 16266, 20015, 63408, 103872, 55202, 3160...</td>\n",
       "      <td>316089</td>\n",
       "      <td>90.168056</td>\n",
       "      <td>[95.95, 64.42, 48.92, 34.26, 14.37, 2.9, 97.69...</td>\n",
       "      <td>36.8837</td>\n",
       "      <td>{1,166,945,1931,5078,17394,33779,1559,442,63,30,}</td>\n",
       "      <td>[3930, 1711, 1849, 2646, 2918, 1009, 65999, 57...</td>\n",
       "    </tr>\n",
       "    <tr>\n",
       "      <th>10</th>\n",
       "      <td>{8, 4, 4, 2, 2, 2, 1, 1, 2, 1, 2, 3}</td>\n",
       "      <td>3379696</td>\n",
       "      <td>0.737312</td>\n",
       "      <td>1.109120</td>\n",
       "      <td>26.81750</td>\n",
       "      <td>{16, 414, 16266, 20015, 63408, 103872, 55202, ...</td>\n",
       "      <td>316089</td>\n",
       "      <td>90.136753</td>\n",
       "      <td>[83.98, 74.7, 64.42, 48.92, 34.26, 14.37, 2.9,...</td>\n",
       "      <td>35.7171</td>\n",
       "      <td>{1,41,166,945,1931,5078,17394,33779,1559,442,6...</td>\n",
       "      <td>[215, 490, 1711, 1849, 2646, 2918, 1009, 65999...</td>\n",
       "    </tr>\n",
       "    <tr>\n",
       "      <th>11</th>\n",
       "      <td>{8, 4, 4, 2, 2, 2, 1, 1, 1, 1, 1, 2, 3}</td>\n",
       "      <td>3383536</td>\n",
       "      <td>0.715680</td>\n",
       "      <td>1.128610</td>\n",
       "      <td>26.88220</td>\n",
       "      <td>{16, 414, 16266, 20015, 63408, 103872, 55202, ...</td>\n",
       "      <td>316089</td>\n",
       "      <td>90.109119</td>\n",
       "      <td>[83.98, 74.7, 64.42, 48.92, 34.26, 14.37, 2.9,...</td>\n",
       "      <td>37.8176</td>\n",
       "      <td>{1,41,166,945,1931,5078,17394,33779,1559,1017,...</td>\n",
       "      <td>[215, 490, 1711, 1849, 2646, 2918, 1009, 65999...</td>\n",
       "    </tr>\n",
       "    <tr>\n",
       "      <th>12</th>\n",
       "      <td>{1, 1, 1, 1, 1, 1, 1, 1, 1, 1, 1, 1, 1, 1, 1, ...</td>\n",
       "      <td>3551560</td>\n",
       "      <td>0.777184</td>\n",
       "      <td>2.824130</td>\n",
       "      <td>8.57805</td>\n",
       "      <td>{0, 0, 0, 0, 0, 0, 0, 16, 13, 36, 100, 265, 50...</td>\n",
       "      <td>316089</td>\n",
       "      <td>100.000000</td>\n",
       "      <td>[0.0, 0.0, 0.0, 12.5, 10.71, 36.0, 40.62, 46.0...</td>\n",
       "      <td>85.4229</td>\n",
       "      <td>{1,2,4,8,14,25,32,38,41,52,70,107,166,260,407,...</td>\n",
       "      <td>[0, 0, 0, 2, 3, 18, 26, 35, 30, 34, 33, 48, 72...</td>\n",
       "    </tr>\n",
       "    <tr>\n",
       "      <th>0</th>\n",
       "      <td>{3, 5, 4, 4, 2, 2, 2, 2, 1, 1, 1, 1, 1, 1, 2}</td>\n",
       "      <td>2983040</td>\n",
       "      <td>0.776224</td>\n",
       "      <td>1.408190</td>\n",
       "      <td>29.39130</td>\n",
       "      <td>{0, 16, 414, 16266, 20015, 63408, 103872, 3712...</td>\n",
       "      <td>371291</td>\n",
       "      <td>84.788536</td>\n",
       "      <td>[0.0, 83.98, 74.7, 64.42, 48.92, 34.26, 14.37,...</td>\n",
       "      <td>47.6312</td>\n",
       "      <td>{1,8,41,166,945,1931,5078,17394,1559,1017,442,...</td>\n",
       "      <td>[0, 215, 490, 1711, 1849, 2646, 2918, 68017, 2...</td>\n",
       "    </tr>\n",
       "    <tr>\n",
       "      <th>2</th>\n",
       "      <td>{19, 3, 2, 8}</td>\n",
       "      <td>4954664</td>\n",
       "      <td>118.131000</td>\n",
       "      <td>0.934496</td>\n",
       "      <td>88.82310</td>\n",
       "      <td>{62283, 141708, 371291, 1564, }</td>\n",
       "      <td>371291</td>\n",
       "      <td>107.754969</td>\n",
       "      <td>[99.43, 27.55, 97.76]</td>\n",
       "      <td>18.2745</td>\n",
       "      <td>{1,3001,17394,1559,}</td>\n",
       "      <td>[521287, 6614, 68017]</td>\n",
       "    </tr>\n",
       "    <tr>\n",
       "      <th>1</th>\n",
       "      <td>{20, 4, 8}</td>\n",
       "      <td>6879896</td>\n",
       "      <td>193.652000</td>\n",
       "      <td>1.572000</td>\n",
       "      <td>195.39200</td>\n",
       "      <td>{100119, 475163, 1564, }</td>\n",
       "      <td>475163</td>\n",
       "      <td>161.527175</td>\n",
       "      <td>[99.52, 98.08]</td>\n",
       "      <td>17.3688</td>\n",
       "      <td>{1,5078,1559,}</td>\n",
       "      <td>[1043498, 79689]</td>\n",
       "    </tr>\n",
       "  </tbody>\n",
       "</table>\n",
       "</div>"
      ],
      "text/plain": [
       "                                               Config  TreeMemoryUniqueOnly  \\\n",
       "3                                    {18, 3, 2, 1, 8}               4206824   \n",
       "4                                 {17, 3, 2, 1, 1, 8}               3837824   \n",
       "5                              {17, 3, 2, 1, 1, 3, 5}               3888256   \n",
       "6                           {13, 4, 3, 2, 1, 1, 3, 5}               3415496   \n",
       "7                        {12, 4, 2, 2, 2, 1, 1, 3, 5}               3408608   \n",
       "8                     {12, 4, 2, 2, 2, 1, 1, 2, 2, 4}               3394176   \n",
       "9                  {12, 4, 2, 2, 2, 1, 1, 2, 1, 2, 3}               3392064   \n",
       "10               {8, 4, 4, 2, 2, 2, 1, 1, 2, 1, 2, 3}               3379696   \n",
       "11            {8, 4, 4, 2, 2, 2, 1, 1, 1, 1, 1, 2, 3}               3383536   \n",
       "12  {1, 1, 1, 1, 1, 1, 1, 1, 1, 1, 1, 1, 1, 1, 1, ...               3551560   \n",
       "0       {3, 5, 4, 4, 2, 2, 2, 2, 1, 1, 1, 1, 1, 1, 2}               2983040   \n",
       "2                                       {19, 3, 2, 8}               4954664   \n",
       "1                                          {20, 4, 8}               6879896   \n",
       "\n",
       "    RandomMatch     Match       Find  \\\n",
       "3     69.273300  0.829888   45.16650   \n",
       "4     45.814400  0.861216   35.47250   \n",
       "5     46.306700  0.874912   35.77480   \n",
       "6      2.819010  0.942112   31.45560   \n",
       "7      1.876420  1.011780   26.86590   \n",
       "8      1.803230  1.084670   26.55230   \n",
       "9      1.812420  1.108640   26.88080   \n",
       "10     0.737312  1.109120   26.81750   \n",
       "11     0.715680  1.128610   26.88220   \n",
       "12     0.777184  2.824130    8.57805   \n",
       "0      0.776224  1.408190   29.39130   \n",
       "2    118.131000  0.934496   88.82310   \n",
       "1    193.652000  1.572000  195.39200   \n",
       "\n",
       "                                        ItemsPerLevel  MaxItemsPerLevel  \\\n",
       "3             {36711, 103489, 118993, 316089, 1564, }            316089   \n",
       "4       {24107, 76012, 103872, 55202, 316089, 1564, }            316089   \n",
       "5   {24107, 76012, 103872, 55202, 316089, 1501, 63, }            316089   \n",
       "6   {936, 23171, 76012, 103872, 55202, 316089, 150...            316089   \n",
       "7   {430, 16266, 20015, 63408, 103872, 55202, 3160...            316089   \n",
       "8   {430, 16266, 20015, 63408, 103872, 55202, 3160...            316089   \n",
       "9   {430, 16266, 20015, 63408, 103872, 55202, 3160...            316089   \n",
       "10  {16, 414, 16266, 20015, 63408, 103872, 55202, ...            316089   \n",
       "11  {16, 414, 16266, 20015, 63408, 103872, 55202, ...            316089   \n",
       "12  {0, 0, 0, 0, 0, 0, 0, 16, 13, 36, 100, 265, 50...            316089   \n",
       "0   {0, 16, 414, 16266, 20015, 63408, 103872, 3712...            371291   \n",
       "2                     {62283, 141708, 371291, 1564, }            371291   \n",
       "1                            {100119, 475163, 1564, }            475163   \n",
       "\n",
       "       Percent                          PercentEmptyPointerLevels    Build  \\\n",
       "3    99.444746                        [99.26, 40.53, 8.08, 97.69]  20.7005   \n",
       "4    93.501291                  [98.99, 51.91, 14.37, 2.9, 97.69]  23.1034   \n",
       "5    93.986481           [98.99, 51.91, 14.37, 2.9, 97.69, 99.49]  24.9575   \n",
       "6    91.418692    [96.83, 68.27, 51.91, 14.37, 2.9, 97.69, 99.49]  27.4011   \n",
       "7    90.352937  [95.95, 64.42, 48.92, 34.26, 14.37, 2.9, 97.69...  31.4056   \n",
       "8    90.201315  [95.95, 64.42, 48.92, 34.26, 14.37, 2.9, 97.69...  30.8613   \n",
       "9    90.168056  [95.95, 64.42, 48.92, 34.26, 14.37, 2.9, 97.69...  36.8837   \n",
       "10   90.136753  [83.98, 74.7, 64.42, 48.92, 34.26, 14.37, 2.9,...  35.7171   \n",
       "11   90.109119  [83.98, 74.7, 64.42, 48.92, 34.26, 14.37, 2.9,...  37.8176   \n",
       "12  100.000000  [0.0, 0.0, 0.0, 12.5, 10.71, 36.0, 40.62, 46.0...  85.4229   \n",
       "0    84.788536  [0.0, 83.98, 74.7, 64.42, 48.92, 34.26, 14.37,...  47.6312   \n",
       "2   107.754969                              [99.43, 27.55, 97.76]  18.2745   \n",
       "1   161.527175                                     [99.52, 98.08]  17.3688   \n",
       "\n",
       "                                           TreeLevels  \\\n",
       "3                           {1,1931,9187,33779,1559,}   \n",
       "4                     {1,1320,5078,17394,33779,1559,}   \n",
       "5                  {1,1320,5078,17394,33779,1559,63,}   \n",
       "6              {1,260,1320,5078,17394,33779,1559,63,}   \n",
       "7          {1,166,945,1931,5078,17394,33779,1559,63,}   \n",
       "8      {1,166,945,1931,5078,17394,33779,1559,442,46,}   \n",
       "9   {1,166,945,1931,5078,17394,33779,1559,442,63,30,}   \n",
       "10  {1,41,166,945,1931,5078,17394,33779,1559,442,6...   \n",
       "11  {1,41,166,945,1931,5078,17394,33779,1559,1017,...   \n",
       "12  {1,2,4,8,14,25,32,38,41,52,70,107,166,260,407,...   \n",
       "0   {1,8,41,166,945,1931,5078,17394,1559,1017,442,...   \n",
       "2                                {1,3001,17394,1559,}   \n",
       "1                                      {1,5078,1559,}   \n",
       "\n",
       "                                   EmptyPointerLevels  \n",
       "3                         [260213, 6261, 2969, 65999]  \n",
       "4                   [129752, 5482, 2918, 1009, 65999]  \n",
       "5            [129752, 5482, 2918, 1009, 65999, 12409]  \n",
       "6        [7932, 2840, 5482, 2918, 1009, 65999, 12409]  \n",
       "7   [3930, 1711, 1849, 2646, 2918, 1009, 65999, 12...  \n",
       "8   [3930, 1711, 1849, 2646, 2918, 1009, 65999, 57...  \n",
       "9   [3930, 1711, 1849, 2646, 2918, 1009, 65999, 57...  \n",
       "10  [215, 490, 1711, 1849, 2646, 2918, 1009, 65999...  \n",
       "11  [215, 490, 1711, 1849, 2646, 2918, 1009, 65999...  \n",
       "12  [0, 0, 0, 2, 3, 18, 26, 35, 30, 34, 33, 48, 72...  \n",
       "0   [0, 215, 490, 1711, 1849, 2646, 2918, 68017, 2...  \n",
       "2                               [521287, 6614, 68017]  \n",
       "1                                    [1043498, 79689]  "
      ]
     },
     "execution_count": 9,
     "metadata": {},
     "output_type": "execute_result"
    }
   ],
   "source": [
    "results_fst = results_fst.sort_values('MaxItemsPerLevel')\n",
    "results_fst[['Config', 'TreeMemoryUniqueOnly', 'RandomMatch', 'Match', 'Find', 'ItemsPerLevel', 'MaxItemsPerLevel', 'Percent', 'PercentEmptyPointerLevels', 'Build', 'TreeLevels', 'EmptyPointerLevels']]"
   ]
  },
  {
   "cell_type": "code",
   "execution_count": 10,
   "metadata": {},
   "outputs": [
    {
     "data": {
      "text/html": [
       "<div>\n",
       "<style scoped>\n",
       "    .dataframe tbody tr th:only-of-type {\n",
       "        vertical-align: middle;\n",
       "    }\n",
       "\n",
       "    .dataframe tbody tr th {\n",
       "        vertical-align: top;\n",
       "    }\n",
       "\n",
       "    .dataframe thead th {\n",
       "        text-align: right;\n",
       "    }\n",
       "</style>\n",
       "<table border=\"1\" class=\"dataframe\">\n",
       "  <thead>\n",
       "    <tr style=\"text-align: right;\">\n",
       "      <th></th>\n",
       "      <th>Config</th>\n",
       "      <th>RandomMatch</th>\n",
       "      <th>Match</th>\n",
       "      <th>Find</th>\n",
       "      <th>ItemsPerLevel</th>\n",
       "      <th>MaxItemsPerLevel</th>\n",
       "      <th>TreeMemoryUniqueOnly</th>\n",
       "      <th>Percent</th>\n",
       "      <th>PercentEmptyPointerLevels</th>\n",
       "      <th>Build</th>\n",
       "      <th>TreeLevels</th>\n",
       "      <th>EmptyPointerLevels</th>\n",
       "    </tr>\n",
       "  </thead>\n",
       "  <tbody>\n",
       "    <tr>\n",
       "      <th>4</th>\n",
       "      <td>{1, 1, 1, 1, 1, 1, 1, 1, 1, 1, 1, 1, 1, 1, 1, ...</td>\n",
       "      <td>0.794848</td>\n",
       "      <td>2.984960</td>\n",
       "      <td>8.67203</td>\n",
       "      <td>{0, 0, 0, 0, 0, 0, 0, 16, 13, 36, 100, 265, 50...</td>\n",
       "      <td>316089</td>\n",
       "      <td>3551560</td>\n",
       "      <td>100.000000</td>\n",
       "      <td>[0.0, 0.0, 0.0, 12.5, 10.71, 36.0, 40.62, 46.0...</td>\n",
       "      <td>79.0481</td>\n",
       "      <td>{1,2,4,8,14,25,32,38,41,52,70,107,166,260,407,...</td>\n",
       "      <td>[0, 0, 0, 2, 3, 18, 26, 35, 30, 34, 33, 48, 72...</td>\n",
       "    </tr>\n",
       "    <tr>\n",
       "      <th>3</th>\n",
       "      <td>{20, 1, 1, 1, 1, 8}</td>\n",
       "      <td>195.732000</td>\n",
       "      <td>0.900160</td>\n",
       "      <td>180.73400</td>\n",
       "      <td>{100119, 40081, 63791, 55202, 316089, 1564, }</td>\n",
       "      <td>316089</td>\n",
       "      <td>7561408</td>\n",
       "      <td>136.816479</td>\n",
       "      <td>[99.52, 9.54, 5.33, 2.9, 97.69]</td>\n",
       "      <td>21.6736</td>\n",
       "      <td>{1,5078,9187,17394,33779,1559,}</td>\n",
       "      <td>[1043498, 969, 980, 1009, 65999]</td>\n",
       "    </tr>\n",
       "    <tr>\n",
       "      <th>2</th>\n",
       "      <td>{20, 2, 1, 1, 8}</td>\n",
       "      <td>196.212000</td>\n",
       "      <td>0.805952</td>\n",
       "      <td>180.20000</td>\n",
       "      <td>{100119, 103872, 55202, 316089, 1564, }</td>\n",
       "      <td>316089</td>\n",
       "      <td>7455000</td>\n",
       "      <td>132.745921</td>\n",
       "      <td>[99.52, 14.37, 2.9, 97.69]</td>\n",
       "      <td>20.4013</td>\n",
       "      <td>{1,5078,17394,33779,1559,}</td>\n",
       "      <td>[1043498, 2918, 1009, 65999]</td>\n",
       "    </tr>\n",
       "    <tr>\n",
       "      <th>1</th>\n",
       "      <td>{21, 2, 1, 8}</td>\n",
       "      <td>286.005000</td>\n",
       "      <td>0.747456</td>\n",
       "      <td>321.90800</td>\n",
       "      <td>{140200, 118993, 316089, 1564, }</td>\n",
       "      <td>316089</td>\n",
       "      <td>11469576</td>\n",
       "      <td>185.513142</td>\n",
       "      <td>[99.56, 8.08, 97.69]</td>\n",
       "      <td>18.8426</td>\n",
       "      <td>{1,9187,33779,1559,}</td>\n",
       "      <td>[2087965, 2969, 65999]</td>\n",
       "    </tr>\n",
       "    <tr>\n",
       "      <th>0</th>\n",
       "      <td>{22, 1, 9}</td>\n",
       "      <td>428.793000</td>\n",
       "      <td>29.657400</td>\n",
       "      <td>699.42600</td>\n",
       "      <td>{203991, 55202, 317653, }</td>\n",
       "      <td>317653</td>\n",
       "      <td>19633256</td>\n",
       "      <td>275.912299</td>\n",
       "      <td>[99.59, 2.9]</td>\n",
       "      <td>18.3254</td>\n",
       "      <td>{1,17394,33779,}</td>\n",
       "      <td>[4176910, 1009]</td>\n",
       "    </tr>\n",
       "  </tbody>\n",
       "</table>\n",
       "</div>"
      ],
      "text/plain": [
       "                                              Config  RandomMatch      Match  \\\n",
       "4  {1, 1, 1, 1, 1, 1, 1, 1, 1, 1, 1, 1, 1, 1, 1, ...     0.794848   2.984960   \n",
       "3                                {20, 1, 1, 1, 1, 8}   195.732000   0.900160   \n",
       "2                                   {20, 2, 1, 1, 8}   196.212000   0.805952   \n",
       "1                                      {21, 2, 1, 8}   286.005000   0.747456   \n",
       "0                                         {22, 1, 9}   428.793000  29.657400   \n",
       "\n",
       "        Find                                      ItemsPerLevel  \\\n",
       "4    8.67203  {0, 0, 0, 0, 0, 0, 0, 16, 13, 36, 100, 265, 50...   \n",
       "3  180.73400      {100119, 40081, 63791, 55202, 316089, 1564, }   \n",
       "2  180.20000            {100119, 103872, 55202, 316089, 1564, }   \n",
       "1  321.90800                   {140200, 118993, 316089, 1564, }   \n",
       "0  699.42600                          {203991, 55202, 317653, }   \n",
       "\n",
       "   MaxItemsPerLevel  TreeMemoryUniqueOnly     Percent  \\\n",
       "4            316089               3551560  100.000000   \n",
       "3            316089               7561408  136.816479   \n",
       "2            316089               7455000  132.745921   \n",
       "1            316089              11469576  185.513142   \n",
       "0            317653              19633256  275.912299   \n",
       "\n",
       "                           PercentEmptyPointerLevels    Build  \\\n",
       "4  [0.0, 0.0, 0.0, 12.5, 10.71, 36.0, 40.62, 46.0...  79.0481   \n",
       "3                    [99.52, 9.54, 5.33, 2.9, 97.69]  21.6736   \n",
       "2                         [99.52, 14.37, 2.9, 97.69]  20.4013   \n",
       "1                               [99.56, 8.08, 97.69]  18.8426   \n",
       "0                                       [99.59, 2.9]  18.3254   \n",
       "\n",
       "                                          TreeLevels  \\\n",
       "4  {1,2,4,8,14,25,32,38,41,52,70,107,166,260,407,...   \n",
       "3                    {1,5078,9187,17394,33779,1559,}   \n",
       "2                         {1,5078,17394,33779,1559,}   \n",
       "1                               {1,9187,33779,1559,}   \n",
       "0                                   {1,17394,33779,}   \n",
       "\n",
       "                                  EmptyPointerLevels  \n",
       "4  [0, 0, 0, 2, 3, 18, 26, 35, 30, 34, 33, 48, 72...  \n",
       "3                   [1043498, 969, 980, 1009, 65999]  \n",
       "2                       [1043498, 2918, 1009, 65999]  \n",
       "1                             [2087965, 2969, 65999]  \n",
       "0                                    [4176910, 1009]  "
      ]
     },
     "execution_count": 10,
     "metadata": {},
     "output_type": "execute_result"
    }
   ],
   "source": [
    "results_equal_dist = results_equal_dist.sort_values('RandomMatch')\n",
    "results_equal_dist[['Config', 'RandomMatch', 'Match', 'Find', 'ItemsPerLevel', 'MaxItemsPerLevel', 'TreeMemoryUniqueOnly', 'Percent', 'PercentEmptyPointerLevels', 'Build', 'TreeLevels', 'EmptyPointerLevels']]"
   ]
  },
  {
   "cell_type": "code",
   "execution_count": 11,
   "metadata": {},
   "outputs": [
    {
     "data": {
      "text/html": [
       "<div>\n",
       "<style scoped>\n",
       "    .dataframe tbody tr th:only-of-type {\n",
       "        vertical-align: middle;\n",
       "    }\n",
       "\n",
       "    .dataframe tbody tr th {\n",
       "        vertical-align: top;\n",
       "    }\n",
       "\n",
       "    .dataframe thead th {\n",
       "        text-align: right;\n",
       "    }\n",
       "</style>\n",
       "<table border=\"1\" class=\"dataframe\">\n",
       "  <thead>\n",
       "    <tr style=\"text-align: right;\">\n",
       "      <th></th>\n",
       "      <th>Config</th>\n",
       "      <th>RandomMatch</th>\n",
       "      <th>Match</th>\n",
       "      <th>ItemsPerLevel</th>\n",
       "      <th>MaxItemsPerLevel</th>\n",
       "      <th>TreeMemoryUniqueOnly</th>\n",
       "      <th>Percent</th>\n",
       "      <th>PercentEmptyPointerLevels</th>\n",
       "      <th>Build</th>\n",
       "      <th>TreeLevels</th>\n",
       "      <th>EmptyPointerLevels</th>\n",
       "    </tr>\n",
       "  </thead>\n",
       "  <tbody>\n",
       "    <tr>\n",
       "      <th>362</th>\n",
       "      <td>{2, 6, 1, 11, 3, 9}</td>\n",
       "      <td>0.431776</td>\n",
       "      <td>0.782304</td>\n",
       "      <td>{0, 16, 13, 100090, 159074, 317653, }</td>\n",
       "      <td>317653</td>\n",
       "      <td>3209104</td>\n",
       "      <td>99.085622</td>\n",
       "      <td>[0.0, 83.98, 36.59, 95.23, 16.85]</td>\n",
       "      <td>21.9332</td>\n",
       "      <td>{1,4,41,52,5078,33779,}</td>\n",
       "      <td>[0, 215, 30, 101418, 6845]</td>\n",
       "    </tr>\n",
       "    <tr>\n",
       "      <th>363</th>\n",
       "      <td>{8, 9, 4, 2, 2, 7}</td>\n",
       "      <td>0.437504</td>\n",
       "      <td>0.789536</td>\n",
       "      <td>{16, 24091, 116093, 118993, 316636, 1017, }</td>\n",
       "      <td>316636</td>\n",
       "      <td>3527304</td>\n",
       "      <td>122.325341</td>\n",
       "      <td>[83.98, 93.71, 56.5, 8.08, 99.25]</td>\n",
       "      <td>24.9230</td>\n",
       "      <td>{1,41,1320,9187,33779,1017,}</td>\n",
       "      <td>[215, 19672, 11933, 2969, 134099]</td>\n",
       "    </tr>\n",
       "    <tr>\n",
       "      <th>500</th>\n",
       "      <td>{1, 6, 1, 9, 1, 4, 1, 9}</td>\n",
       "      <td>0.439136</td>\n",
       "      <td>0.899072</td>\n",
       "      <td>{0, 0, 16, 24091, 12604, 167280, 55202, 317653, }</td>\n",
       "      <td>317653</td>\n",
       "      <td>3101832</td>\n",
       "      <td>82.466521</td>\n",
       "      <td>[0.0, 70.31, 46.05, 93.71, 26.86, 43.7, 2.9]</td>\n",
       "      <td>27.1297</td>\n",
       "      <td>{1,2,38,41,1320,1931,17394,33779,}</td>\n",
       "      <td>[0, 90, 35, 19672, 709, 13502, 1009]</td>\n",
       "    </tr>\n",
       "    <tr>\n",
       "      <th>744</th>\n",
       "      <td>{7, 2, 1, 3, 2, 1, 5, 1, 2, 8}</td>\n",
       "      <td>0.449920</td>\n",
       "      <td>1.130080</td>\n",
       "      <td>{0, 29, 36, 871, 2786, 12974, 123504, 63791, 3...</td>\n",
       "      <td>371291</td>\n",
       "      <td>3034616</td>\n",
       "      <td>100.891023</td>\n",
       "      <td>[70.31, 65.79, 32.69, 53.57, 39.33, 25.12, 69....</td>\n",
       "      <td>29.7521</td>\n",
       "      <td>{1,38,52,70,260,631,945,9187,17394,1559,}</td>\n",
       "      <td>[90, 100, 34, 300, 409, 317, 21053, 980, 68017]</td>\n",
       "    </tr>\n",
       "    <tr>\n",
       "      <th>256</th>\n",
       "      <td>{9, 12, 4, 1, 6}</td>\n",
       "      <td>0.466592</td>\n",
       "      <td>1.111580</td>\n",
       "      <td>{29, 140171, 435629, 575, 442, }</td>\n",
       "      <td>435629</td>\n",
       "      <td>3843288</td>\n",
       "      <td>230.778016</td>\n",
       "      <td>[89.84, 95.69, 99.31, 78.27]</td>\n",
       "      <td>19.4363</td>\n",
       "      <td>{1,52,9187,1017,442,}</td>\n",
       "      <td>[460, 203805, 145975, 1592]</td>\n",
       "    </tr>\n",
       "    <tr>\n",
       "      <th>...</th>\n",
       "      <td>...</td>\n",
       "      <td>...</td>\n",
       "      <td>...</td>\n",
       "      <td>...</td>\n",
       "      <td>...</td>\n",
       "      <td>...</td>\n",
       "      <td>...</td>\n",
       "      <td>...</td>\n",
       "      <td>...</td>\n",
       "      <td>...</td>\n",
       "      <td>...</td>\n",
       "    </tr>\n",
       "    <tr>\n",
       "      <th>405</th>\n",
       "      <td>{7, 16, 3, 1, 1, 3, 1}</td>\n",
       "      <td>368.288000</td>\n",
       "      <td>100.582000</td>\n",
       "      <td>{0, 259193, 317211, 379, 17, 25, 21, }</td>\n",
       "      <td>317211</td>\n",
       "      <td>13631200</td>\n",
       "      <td>544.031723</td>\n",
       "      <td>[70.31, 98.64, 99.84, 92.87, 63.49, 94.29]</td>\n",
       "      <td>24.8462</td>\n",
       "      <td>{1,38,33779,442,63,46,21,}</td>\n",
       "      <td>[90, 2456589, 269790, 821, 80, 347]</td>\n",
       "    </tr>\n",
       "    <tr>\n",
       "      <th>783</th>\n",
       "      <td>{1, 4, 2, 16, 1, 1, 1, 1, 1, 4}</td>\n",
       "      <td>368.567000</td>\n",
       "      <td>100.354000</td>\n",
       "      <td>{0, 0, 0, 259193, 316089, 547, 575, 379, 17, 4...</td>\n",
       "      <td>316089</td>\n",
       "      <td>12860440</td>\n",
       "      <td>469.824314</td>\n",
       "      <td>[0.0, 21.88, 62.0, 98.64, 97.69, 67.38, 78.27,...</td>\n",
       "      <td>30.6107</td>\n",
       "      <td>{1,2,25,38,33779,1559,1017,442,63,46,}</td>\n",
       "      <td>[0, 7, 62, 2456589, 65999, 2101, 1592, 821, 80]</td>\n",
       "    </tr>\n",
       "    <tr>\n",
       "      <th>414</th>\n",
       "      <td>{3, 3, 16, 2, 1, 1, 6}</td>\n",
       "      <td>383.653000</td>\n",
       "      <td>28.974100</td>\n",
       "      <td>{0, 0, 203991, 371291, 547, 575, 442, }</td>\n",
       "      <td>371291</td>\n",
       "      <td>11159088</td>\n",
       "      <td>263.558908</td>\n",
       "      <td>[0.0, 50.0, 99.17, 97.76, 67.38, 78.27]</td>\n",
       "      <td>24.3490</td>\n",
       "      <td>{1,8,32,17394,1559,1017,442,}</td>\n",
       "      <td>[0, 32, 2079758, 68017, 2101, 1592]</td>\n",
       "    </tr>\n",
       "    <tr>\n",
       "      <th>51</th>\n",
       "      <td>{6, 16, 10}</td>\n",
       "      <td>385.327000</td>\n",
       "      <td>29.108600</td>\n",
       "      <td>{0, 203991, 372855, }</td>\n",
       "      <td>372855</td>\n",
       "      <td>10835776</td>\n",
       "      <td>224.380796</td>\n",
       "      <td>[50.0, 99.17]</td>\n",
       "      <td>15.0092</td>\n",
       "      <td>{1,32,17394,}</td>\n",
       "      <td>[32, 2079758]</td>\n",
       "    </tr>\n",
       "    <tr>\n",
       "      <th>392</th>\n",
       "      <td>{3, 4, 16, 1, 2, 6}</td>\n",
       "      <td>487.783000</td>\n",
       "      <td>98.707000</td>\n",
       "      <td>{0, 0, 259193, 316089, 1122, 442, }</td>\n",
       "      <td>316089</td>\n",
       "      <td>12851424</td>\n",
       "      <td>469.798759</td>\n",
       "      <td>[0.0, 70.31, 98.64, 97.69, 92.91]</td>\n",
       "      <td>21.9805</td>\n",
       "      <td>{1,8,38,33779,1559,442,}</td>\n",
       "      <td>[0, 90, 2456589, 65999, 5794]</td>\n",
       "    </tr>\n",
       "  </tbody>\n",
       "</table>\n",
       "<p>800 rows × 11 columns</p>\n",
       "</div>"
      ],
      "text/plain": [
       "                              Config  RandomMatch       Match  \\\n",
       "362              {2, 6, 1, 11, 3, 9}     0.431776    0.782304   \n",
       "363               {8, 9, 4, 2, 2, 7}     0.437504    0.789536   \n",
       "500         {1, 6, 1, 9, 1, 4, 1, 9}     0.439136    0.899072   \n",
       "744   {7, 2, 1, 3, 2, 1, 5, 1, 2, 8}     0.449920    1.130080   \n",
       "256                 {9, 12, 4, 1, 6}     0.466592    1.111580   \n",
       "..                               ...          ...         ...   \n",
       "405           {7, 16, 3, 1, 1, 3, 1}   368.288000  100.582000   \n",
       "783  {1, 4, 2, 16, 1, 1, 1, 1, 1, 4}   368.567000  100.354000   \n",
       "414           {3, 3, 16, 2, 1, 1, 6}   383.653000   28.974100   \n",
       "51                       {6, 16, 10}   385.327000   29.108600   \n",
       "392              {3, 4, 16, 1, 2, 6}   487.783000   98.707000   \n",
       "\n",
       "                                         ItemsPerLevel  MaxItemsPerLevel  \\\n",
       "362              {0, 16, 13, 100090, 159074, 317653, }            317653   \n",
       "363        {16, 24091, 116093, 118993, 316636, 1017, }            316636   \n",
       "500  {0, 0, 16, 24091, 12604, 167280, 55202, 317653, }            317653   \n",
       "744  {0, 29, 36, 871, 2786, 12974, 123504, 63791, 3...            371291   \n",
       "256                   {29, 140171, 435629, 575, 442, }            435629   \n",
       "..                                                 ...               ...   \n",
       "405             {0, 259193, 317211, 379, 17, 25, 21, }            317211   \n",
       "783  {0, 0, 0, 259193, 316089, 547, 575, 379, 17, 4...            316089   \n",
       "414            {0, 0, 203991, 371291, 547, 575, 442, }            371291   \n",
       "51                               {0, 203991, 372855, }            372855   \n",
       "392                {0, 0, 259193, 316089, 1122, 442, }            316089   \n",
       "\n",
       "     TreeMemoryUniqueOnly     Percent  \\\n",
       "362               3209104   99.085622   \n",
       "363               3527304  122.325341   \n",
       "500               3101832   82.466521   \n",
       "744               3034616  100.891023   \n",
       "256               3843288  230.778016   \n",
       "..                    ...         ...   \n",
       "405              13631200  544.031723   \n",
       "783              12860440  469.824314   \n",
       "414              11159088  263.558908   \n",
       "51               10835776  224.380796   \n",
       "392              12851424  469.798759   \n",
       "\n",
       "                             PercentEmptyPointerLevels    Build  \\\n",
       "362                  [0.0, 83.98, 36.59, 95.23, 16.85]  21.9332   \n",
       "363                  [83.98, 93.71, 56.5, 8.08, 99.25]  24.9230   \n",
       "500       [0.0, 70.31, 46.05, 93.71, 26.86, 43.7, 2.9]  27.1297   \n",
       "744  [70.31, 65.79, 32.69, 53.57, 39.33, 25.12, 69....  29.7521   \n",
       "256                       [89.84, 95.69, 99.31, 78.27]  19.4363   \n",
       "..                                                 ...      ...   \n",
       "405         [70.31, 98.64, 99.84, 92.87, 63.49, 94.29]  24.8462   \n",
       "783  [0.0, 21.88, 62.0, 98.64, 97.69, 67.38, 78.27,...  30.6107   \n",
       "414            [0.0, 50.0, 99.17, 97.76, 67.38, 78.27]  24.3490   \n",
       "51                                       [50.0, 99.17]  15.0092   \n",
       "392                  [0.0, 70.31, 98.64, 97.69, 92.91]  21.9805   \n",
       "\n",
       "                                    TreeLevels  \\\n",
       "362                    {1,4,41,52,5078,33779,}   \n",
       "363               {1,41,1320,9187,33779,1017,}   \n",
       "500         {1,2,38,41,1320,1931,17394,33779,}   \n",
       "744  {1,38,52,70,260,631,945,9187,17394,1559,}   \n",
       "256                      {1,52,9187,1017,442,}   \n",
       "..                                         ...   \n",
       "405                 {1,38,33779,442,63,46,21,}   \n",
       "783     {1,2,25,38,33779,1559,1017,442,63,46,}   \n",
       "414              {1,8,32,17394,1559,1017,442,}   \n",
       "51                               {1,32,17394,}   \n",
       "392                   {1,8,38,33779,1559,442,}   \n",
       "\n",
       "                                  EmptyPointerLevels  \n",
       "362                       [0, 215, 30, 101418, 6845]  \n",
       "363                [215, 19672, 11933, 2969, 134099]  \n",
       "500             [0, 90, 35, 19672, 709, 13502, 1009]  \n",
       "744  [90, 100, 34, 300, 409, 317, 21053, 980, 68017]  \n",
       "256                      [460, 203805, 145975, 1592]  \n",
       "..                                               ...  \n",
       "405              [90, 2456589, 269790, 821, 80, 347]  \n",
       "783  [0, 7, 62, 2456589, 65999, 2101, 1592, 821, 80]  \n",
       "414              [0, 32, 2079758, 68017, 2101, 1592]  \n",
       "51                                     [32, 2079758]  \n",
       "392                    [0, 90, 2456589, 65999, 5794]  \n",
       "\n",
       "[800 rows x 11 columns]"
      ]
     },
     "execution_count": 11,
     "metadata": {},
     "output_type": "execute_result"
    }
   ],
   "source": [
    "results_random = results_random.sort_values('RandomMatch')\n",
    "results_random[['Config', 'RandomMatch', 'Match', 'ItemsPerLevel', 'MaxItemsPerLevel', 'TreeMemoryUniqueOnly', 'Percent', 'PercentEmptyPointerLevels', 'Build', 'TreeLevels', 'EmptyPointerLevels']]"
   ]
  },
  {
   "cell_type": "code",
   "execution_count": 12,
   "metadata": {},
   "outputs": [
    {
     "data": {
      "image/png": "[encoded data removed]",
      "text/plain": [
       "<Figure size 432x288 with 1 Axes>"
      ]
     },
     "metadata": {
      "needs_background": "light"
     },
     "output_type": "display_data"
    }
   ],
   "source": [
    "x = results_random['AverageNodeSize'].values\n",
    "y = results_random['TreeHeight'].values\n",
    "z = results_random['RandomMatch'].values\n",
    "fig = plt.figure()\n",
    "ax = fig.gca(projection='3d')\n",
    "surf = ax.plot_trisurf(x[z < 1], y[z < 1], z[z < 1], cmap=cm.coolwarm,\n",
    "                       linewidth=0, antialiased=True)"
   ]
  },
  {
   "cell_type": "code",
   "execution_count": 13,
   "metadata": {},
   "outputs": [
    {
     "data": {
      "image/png": "[encoded data removed]",
      "text/plain": [
       "<Figure size 432x288 with 1 Axes>"
      ]
     },
     "metadata": {
      "needs_background": "light"
     },
     "output_type": "display_data"
    }
   ],
   "source": [
    "x = results_random['AverageNodeSize'].values\n",
    "y = results_random['TreeHeight'].values\n",
    "z = results_random['TreeMemoryUniqueOnly'].values\n",
    "fig = plt.figure()\n",
    "ax = fig.gca(projection='3d')\n",
    "surf = ax.plot_trisurf(x, y, z, cmap=cm.coolwarm,\n",
    "                       linewidth=0, antialiased=True)\n"
   ]
  },
  {
   "cell_type": "code",
   "execution_count": 14,
   "metadata": {},
   "outputs": [
    {
     "data": {
      "text/plain": [
       "<matplotlib.collections.PathCollection at 0x2152f5ac888>"
      ]
     },
     "execution_count": 14,
     "metadata": {},
     "output_type": "execute_result"
    },
    {
     "data": {
      "image/png": "[encoded data removed]",
      "text/plain": [
       "<Figure size 432x288 with 1 Axes>"
      ]
     },
     "metadata": {
      "needs_background": "light"
     },
     "output_type": "display_data"
    }
   ],
   "source": [
    "x = results_random['AverageNodeSize'].values\n",
    "y = results_random['RandomMatch'].values\n",
    "plt.scatter(x, y)"
   ]
  },
  {
   "cell_type": "code",
   "execution_count": 15,
   "metadata": {},
   "outputs": [
    {
     "data": {
      "text/plain": [
       "<matplotlib.collections.PathCollection at 0x21526b8bd48>"
      ]
     },
     "execution_count": 15,
     "metadata": {},
     "output_type": "execute_result"
    },
    {
     "data": {
      "image/png": "[encoded data removed]",
      "text/plain": [
       "<Figure size 432x288 with 1 Axes>"
      ]
     },
     "metadata": {
      "needs_background": "light"
     },
     "output_type": "display_data"
    }
   ],
   "source": [
    "x = results_wolant['AverageNodeSize'].values\n",
    "y = results_wolant['RandomMatch'].values\n",
    "plt.scatter(x, y)"
   ]
  },
  {
   "cell_type": "code",
   "execution_count": 16,
   "metadata": {},
   "outputs": [
    {
     "data": {
      "text/plain": [
       "<matplotlib.collections.PathCollection at 0x21526be7ec8>"
      ]
     },
     "execution_count": 16,
     "metadata": {},
     "output_type": "execute_result"
    },
    {
     "data": {
      "image/png": "[encoded data removed]",
      "text/plain": [
       "<Figure size 432x288 with 1 Axes>"
      ]
     },
     "metadata": {
      "needs_background": "light"
     },
     "output_type": "display_data"
    }
   ],
   "source": [
    "# Seems logarithmic in complexity, normal shape\n",
    "# Conclusion- PSFT/FST algorithm give us consistency?\n",
    "x = results_fst['AverageNodeSize'].values\n",
    "y = results_fst['RandomMatch'].values\n",
    "plt.scatter(x, y)"
   ]
  },
  {
   "cell_type": "code",
   "execution_count": 17,
   "metadata": {},
   "outputs": [
    {
     "data": {
      "text/plain": [
       "<matplotlib.collections.PathCollection at 0x21526b99a48>"
      ]
     },
     "execution_count": 17,
     "metadata": {},
     "output_type": "execute_result"
    },
    {
     "data": {
      "image/png": "[encoded data removed]",
      "text/plain": [
       "<Figure size 432x288 with 1 Axes>"
      ]
     },
     "metadata": {
      "needs_background": "light"
     },
     "output_type": "display_data"
    }
   ],
   "source": [
    "# Also Random\n",
    "x = results_equal_dist['AverageNodeSize'].values\n",
    "y = results_equal_dist['RandomMatch'].values\n",
    "plt.scatter(x, y)"
   ]
  },
  {
   "cell_type": "code",
   "execution_count": 18,
   "metadata": {},
   "outputs": [
    {
     "data": {
      "text/plain": [
       "<matplotlib.collections.PathCollection at 0x21528d77948>"
      ]
     },
     "execution_count": 18,
     "metadata": {},
     "output_type": "execute_result"
    },
    {
     "data": {
      "image/png": "[encoded data removed]",
      "text/plain": [
       "<Figure size 432x288 with 1 Axes>"
      ]
     },
     "metadata": {
      "needs_background": "light"
     },
     "output_type": "display_data"
    }
   ],
   "source": [
    "# Notice how fst configurations have much more normal shape\n",
    "x = results_random['TreeMemoryUniqueOnly'].values\n",
    "y = results_random['RandomMatch'].values\n",
    "plt.scatter(x, y)"
   ]
  },
  {
   "cell_type": "code",
   "execution_count": 19,
   "metadata": {},
   "outputs": [
    {
     "data": {
      "text/plain": [
       "<matplotlib.collections.PathCollection at 0x21528dc7108>"
      ]
     },
     "execution_count": 19,
     "metadata": {},
     "output_type": "execute_result"
    },
    {
     "data": {
      "image/png": "[encoded data removed]",
      "text/plain": [
       "<Figure size 432x288 with 1 Axes>"
      ]
     },
     "metadata": {
      "needs_background": "light"
     },
     "output_type": "display_data"
    }
   ],
   "source": [
    "# Completely random\n",
    "x = results_wolant['TreeMemoryUniqueOnly'].values\n",
    "y = results_wolant['RandomMatch'].values\n",
    "plt.scatter(x, y)"
   ]
  },
  {
   "cell_type": "code",
   "execution_count": 20,
   "metadata": {},
   "outputs": [
    {
     "data": {
      "text/plain": [
       "<matplotlib.collections.PathCollection at 0x21528e3c788>"
      ]
     },
     "execution_count": 20,
     "metadata": {},
     "output_type": "execute_result"
    },
    {
     "data": {
      "image/png": "[encoded data removed]",
      "text/plain": [
       "<Figure size 432x288 with 1 Axes>"
      ]
     },
     "metadata": {
      "needs_background": "light"
     },
     "output_type": "display_data"
    }
   ],
   "source": [
    "x = results_fst['TreeMemoryUniqueOnly'].values\n",
    "y = results_fst['RandomMatch'].values\n",
    "plt.scatter(x, y)\n"
   ]
  },
  {
   "cell_type": "code",
   "execution_count": 21,
   "metadata": {},
   "outputs": [
    {
     "data": {
      "text/plain": [
       "<matplotlib.collections.PathCollection at 0x21528e94088>"
      ]
     },
     "execution_count": 21,
     "metadata": {},
     "output_type": "execute_result"
    },
    {
     "data": {
      "image/png": "[encoded data removed]",
      "text/plain": [
       "<Figure size 432x288 with 1 Axes>"
      ]
     },
     "metadata": {
      "needs_background": "light"
     },
     "output_type": "display_data"
    }
   ],
   "source": [
    "x = results_equal_dist['TreeMemoryUniqueOnly'].values\n",
    "y = results_equal_dist['RandomMatch'].values\n",
    "plt.scatter(x, y)\n"
   ]
  },
  {
   "cell_type": "code",
   "execution_count": 22,
   "metadata": {},
   "outputs": [
    {
     "data": {
      "text/plain": [
       "<matplotlib.collections.PathCollection at 0x21528f0e888>"
      ]
     },
     "execution_count": 22,
     "metadata": {},
     "output_type": "execute_result"
    },
    {
     "data": {
      "image/png": "[encoded data removed]",
      "text/plain": [
       "<Figure size 432x288 with 1 Axes>"
      ]
     },
     "metadata": {
      "needs_background": "light"
     },
     "output_type": "display_data"
    }
   ],
   "source": [
    "x = results_random['Depth'].values\n",
    "y = results_random['RandomMatch'].values\n",
    "plt.scatter(x, y)"
   ]
  },
  {
   "cell_type": "code",
   "execution_count": 23,
   "metadata": {},
   "outputs": [
    {
     "data": {
      "text/plain": [
       "<matplotlib.collections.PathCollection at 0x21528f727c8>"
      ]
     },
     "execution_count": 23,
     "metadata": {},
     "output_type": "execute_result"
    },
    {
     "data": {
      "image/png": "[encoded data removed]",
      "text/plain": [
       "<Figure size 432x288 with 1 Axes>"
      ]
     },
     "metadata": {
      "needs_background": "light"
     },
     "output_type": "display_data"
    }
   ],
   "source": [
    "x = results_wolant['Depth'].values\n",
    "y = results_wolant['RandomMatch'].values\n",
    "plt.scatter(x, y)"
   ]
  },
  {
   "cell_type": "code",
   "execution_count": 24,
   "metadata": {},
   "outputs": [
    {
     "data": {
      "text/plain": [
       "<matplotlib.collections.PathCollection at 0x21528fdd908>"
      ]
     },
     "execution_count": 24,
     "metadata": {},
     "output_type": "execute_result"
    },
    {
     "data": {
      "image/png": "[encoded data removed]",
      "text/plain": [
       "<Figure size 432x288 with 1 Axes>"
      ]
     },
     "metadata": {
      "needs_background": "light"
     },
     "output_type": "display_data"
    }
   ],
   "source": [
    "x = results_fst['Depth'].values\n",
    "y = results_fst['RandomMatch'].values\n",
    "plt.scatter(x, y)"
   ]
  },
  {
   "cell_type": "code",
   "execution_count": 25,
   "metadata": {},
   "outputs": [
    {
     "data": {
      "text/plain": [
       "<matplotlib.collections.PathCollection at 0x21529060f48>"
      ]
     },
     "execution_count": 25,
     "metadata": {},
     "output_type": "execute_result"
    },
    {
     "data": {
      "image/png": "[encoded data removed]",
      "text/plain": [
       "<Figure size 432x288 with 1 Axes>"
      ]
     },
     "metadata": {
      "needs_background": "light"
     },
     "output_type": "display_data"
    }
   ],
   "source": [
    "x = results_equal_dist['Depth'].values\n",
    "y = results_equal_dist['RandomMatch'].values\n",
    "plt.scatter(x, y)"
   ]
  },
  {
   "cell_type": "code",
   "execution_count": 26,
   "metadata": {
    "scrolled": true
   },
   "outputs": [
    {
     "data": {
      "text/plain": [
       "Index(['deviceId', 'deviceName', 'Dictionary', 'Load', 'Count', 'Sort',\n",
       "       'Config', 'Reshape', 'Build', 'TreeMemory', 'TreeLevels', 'Depth',\n",
       "       'TreeMemoryUniqueOnly', 'ChildrenMemory', 'ChildrenCountsMemory',\n",
       "       'ScanMemory', 'PreScanMemory', 'PermuationMemory', 'LengthsMemory',\n",
       "       'MasksPartsMemory', 'ContainerSumMemory', 'ContainerItemsMemory',\n",
       "       'ContainerStartsMemory', 'ContainerLengthsMemory',\n",
       "       'AverageNodeSizesLevels', 'AverageNodeSize', 'TreeHeight',\n",
       "       'NodeSizeToHeightRatio', 'ItemsPerLevel', 'MaxItemsPerLevel', 'Find',\n",
       "       'Match', 'RandomCount', 'RandomMatch', 'RandomSort',\n",
       "       'RandomSortedMatch', 'HitRate', 'Unnamed: 37', 'Cost', 'Percent',\n",
       "       'BuildAndFind', 'BuildAndMatch', 'MatchAndFind', 'EmptyPointerLevels',\n",
       "       'PercentEmptyPointerLevels', 'TotalEmptyPointerPercentage'],\n",
       "      dtype='object')"
      ]
     },
     "execution_count": 26,
     "metadata": {},
     "output_type": "execute_result"
    }
   ],
   "source": [
    "results_equal_dist.columns\n",
    "# newcol_names = ['Cost', 'Percent', 'BuildAndFind', 'BuildAndMatch', 'MatchAndFind']\n",
    "# newcols_au = results_au_32bit.apply(lambda row: append_stats(row, nodes_au), axis=1)\n",
    "# newcols_tokyo = results_tokyo.apply(lambda row: append_stats(row, nodes_tokyo), axis=1)\n",
    "# newcols_au.columns = newcol_names\n",
    "# newcols_tokyo.columns = newcol_names\n",
    "# results_au_32bit = results_au_32bit.join(newcols_au)\n",
    "# results_tokyo = results_tokyo.join(newcols_tokyo)\n",
    "# results_au_32bit = results_au_32bit.sort_values('MatchAndFind')\n",
    "# results_au_32bit[['Config', 'Match', 'Find', 'MatchAndFind', 'Build', 'TreeMemoryUniqueOnly', 'Cost', 'RandomMatch', 'RandomSort', 'RandomSortedMatch']]\n",
    "# results_tokyo = results_tokyo.sort_values('TreeMemoryUniqueOnly')\n",
    "# results_tokyo[['Config', 'Match', 'Find', 'MatchAndFind', 'Build', 'TreeMemoryUniqueOnly', 'Cost', 'RandomMatch', 'RandomSort', 'RandomSortedMatch']]\n",
    "# results_au_32bit = results_au_32bit.sort_values('TreeMemoryUniqueOnly')\n",
    "# results_au_32bit[['Config', 'TreeMemoryUniqueOnly', 'Cost', 'Percent', 'TreeLevels', 'ChildrenMemory', 'ChildrenCountsMemory', 'ScanMemory', 'PreScanMemory', 'PermuationMemory', 'LengthsMemory', 'MasksPartsMemory', 'ContainerSumMemory', 'ContainerItemsMemory', 'ContainerStartsMemory', 'ContainerLengthsMemory']]\n",
    "# results_tokyo = results_tokyo.sort_values('Match')\n",
    "# results_tokyo[['Config', 'Match', 'Find', 'MatchAndFind', 'Build', 'TreeMemoryUniqueOnly', 'Cost', 'Percent', 'ChildrenMemory', 'ContainerStartsMemory', 'ContainerLengthsMemory']]\n",
    "# results_au_32bit = results_tokyo.sort_values('Find')\n",
    "# results_au_32bit[['Config', 'Match', 'Find', 'MatchAndFind', 'Build', 'TreeMemoryUniqueOnly', 'Cost', 'Percent', 'ChildrenMemory', 'ContainerStartsMemory', 'ContainerLengthsMemory']]\n",
    "# results_au_32bit['TreeMemoryUniqueOnly'].corr(results_au_32bit['Match'])\n",
    "# results_au_32bit['TreeMemoryUniqueOnly'].corr(results_au_32bit['Find'])\n",
    "# results_au_32bit['TreeMemoryUniqueOnly'].corr(results_au_32bit['Build'])\n",
    "# results_tokyo['ChildrenMemory'].corr(results_au_32bit['Cost'])\n",
    "# results_au_32bit['ChildrenMemory'].corr(results_au_32bit['Cost'])\n",
    "# results_au_32bit['Match'].corr(results_au_32bit['Cost'])\n",
    "# results_tokyo['Match'].corr(results_au_32bit['Cost'])"
   ]
  },
  {
   "cell_type": "code",
   "execution_count": null,
   "metadata": {},
   "outputs": [],
   "source": []
  }
 ],
 "metadata": {
  "kernelspec": {
   "display_name": "Python 3",
   "language": "python",
   "name": "python3"
  },
  "language_info": {
   "codemirror_mode": {
    "name": "ipython",
    "version": 3
   },
   "file_extension": ".py",
   "mimetype": "text/x-python",
   "name": "python",
   "nbconvert_exporter": "python",
   "pygments_lexer": "ipython3",
   "version": "3.7.4"
  }
 },
 "nbformat": 4,
 "nbformat_minor": 2
}
