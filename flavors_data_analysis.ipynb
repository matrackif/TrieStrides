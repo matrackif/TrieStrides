{
 "cells": [
  {
   "cell_type": "code",
   "execution_count": 9,
   "metadata": {},
   "outputs": [],
   "source": [
    "import pandas as pd\n",
    "import sys\n",
    "import os\n",
    "import matplotlib.pyplot as plt\n",
    "sys.path.append(\"FixedStrides\")\n",
    "from main import *\n",
    "# results_au = pd.read_csv('ipResults_home_gtx980_australia.csv', sep=';')\n",
    "results_au_32bit = pd.read_csv('ip_32bit_au.csv', sep=';')\n",
    "results_tokyo = pd.read_csv('ip_32bit_tokyo.csv', sep=';')\n",
    "results_au_32bit.drop(results_au_32bit.columns[len(results_au_32bit.columns)-1], axis=1, inplace=True)  # delete NaN column\n",
    "results_tokyo.drop(results_tokyo.columns[len(results_tokyo.columns)-1], axis=1, inplace=True)  # delete NaN column"
   ]
  },
  {
   "cell_type": "code",
   "execution_count": null,
   "metadata": {},
   "outputs": [],
   "source": [
    "def plot_prefix_distribution(prefixes):\n",
    "    lengths = []\n",
    "    for p in prefixes:\n",
    "        len_p = len(p)\n",
    "        if len_p > len(lengths):\n",
    "            lengths.extend([0] * (len_p - len(lengths)))\n",
    "        lengths[len_p - 1] += 1\n",
    "    plt.bar(range(1, len(lengths) + 1), lengths, align='center')\n",
    "    plt.xlabel('Prefix length in bits')\n",
    "    plt.ylabel('Num occurrences')\n",
    "    plt.title('Prefix length distribution')\n",
    "    plt.show()"
   ]
  },
  {
   "cell_type": "code",
   "execution_count": null,
   "metadata": {},
   "outputs": [
    {
     "name": "stdout",
     "output_type": "stream",
     "text": [
      "Read 576846 prefixes from file in 8.8897066116333 seconds\n"
     ]
    }
   ],
   "source": [
    "prefixes_tokyo = utils.get_prefixes_from_file(file_name='FixedStrides/data/data-raw-table_tokyo_012016.txt')\n",
    "prefixes_au = utils.get_prefixes_from_file(file_name='FixedStrides/data/data-raw-table_australia_012016.txt')"
   ]
  },
  {
   "cell_type": "code",
   "execution_count": null,
   "metadata": {},
   "outputs": [],
   "source": [
    "plot_prefix_distribution(prefixes_au)\n",
    "plot_prefix_distribution(prefixes_tokyo)"
   ]
  },
  {
   "cell_type": "code",
   "execution_count": null,
   "metadata": {},
   "outputs": [],
   "source": [
    "strides_tokyo, nodes_tokyo = algos.fixed_strides_2(prefixes_tokyo)"
   ]
  },
  {
   "cell_type": "code",
   "execution_count": null,
   "metadata": {},
   "outputs": [],
   "source": [
    "strides_au, nodes_au = algos.fixed_strides_2(prefixes_au)"
   ]
  },
  {
   "cell_type": "code",
   "execution_count": null,
   "metadata": {},
   "outputs": [],
   "source": [
    "def append_stats(row: pd.Series, nodes: list):\n",
    "    strides = row['Config'].replace('{', ' ').replace('}',' ').replace(',',' ').split()\n",
    "    strides = [int(x) for x in strides]\n",
    "    tmp, strides_nodes, cost, percent = utils.get_stats(nodes, strides, ignore_last_level=True)\n",
    "    build_and_find = float(row['Build']) + float(row['Find'])\n",
    "    build_and_match = float(row['Build']) + float(row['Match'])\n",
    "    match_and_find = float(row['Match']) + float(row['Find'])\n",
    "    return pd.Series([cost, percent, build_and_find, build_and_match, match_and_find])\n",
    "    "
   ]
  },
  {
   "cell_type": "code",
   "execution_count": null,
   "metadata": {},
   "outputs": [],
   "source": [
    "newcol_names = ['Cost', 'Percent', 'BuildAndFind', 'BuildAndMatch', 'MatchAndFind']\n",
    "newcols_au = results_au_32bit.apply(lambda row: append_stats(row, nodes_au), axis=1)\n",
    "newcols_tokyo = results_tokyo.apply(lambda row: append_stats(row, nodes_tokyo), axis=1)\n",
    "newcols_au.columns = newcol_names\n",
    "newcols_tokyo.columns = newcol_names\n",
    "results_au_32bit = results_au_32bit.join(newcols_au)\n",
    "results_tokyo = results_tokyo.join(newcols_tokyo)"
   ]
  },
  {
   "cell_type": "code",
   "execution_count": null,
   "metadata": {},
   "outputs": [],
   "source": [
    "results_au_32bit = results_au_32bit.sort_values('MatchAndFind')\n",
    "results_au_32bit[['Config', 'Match', 'Find', 'MatchAndFind', 'Build', 'TreeMemoryUniqueOnly', 'Cost', 'RandomMatch', 'RandomSort', 'RandomSortedMatch']]"
   ]
  },
  {
   "cell_type": "code",
   "execution_count": null,
   "metadata": {},
   "outputs": [],
   "source": [
    "results_tokyo = results_tokyo.sort_values('MatchAndFind')\n",
    "results_tokyo[['Config', 'Match', 'Find', 'MatchAndFind', 'Build', 'TreeMemoryUniqueOnly', 'Cost', 'RandomMatch', 'RandomSort', 'RandomSortedMatch']]"
   ]
  },
  {
   "cell_type": "code",
   "execution_count": null,
   "metadata": {},
   "outputs": [],
   "source": [
    "results_au_32bit = results_au_32bit.sort_values('TreeMemoryUniqueOnly')\n",
    "results_au_32bit[['Config', 'TreeMemoryUniqueOnly', 'Cost', 'Percent', 'TreeLevels', 'ChildrenMemory', 'ChildrenCountsMemory', 'ScanMemory', 'PreScanMemory', 'PermuationMemory', 'LengthsMemory', 'MasksPartsMemory', 'ContainerSumMemory', 'ContainerItemsMemory', 'ContainerStartsMemory', 'ContainerLengthsMemory']]"
   ]
  },
  {
   "cell_type": "code",
   "execution_count": null,
   "metadata": {},
   "outputs": [],
   "source": [
    "results_tokyo = results_tokyo.sort_values('MatchAndFind')\n",
    "results_tokyo[['Config', 'Match', 'Find', 'MatchAndFind', 'Build', 'TreeMemoryUniqueOnly', 'Cost', 'Percent', 'ChildrenMemory', 'ContainerStartsMemory', 'ContainerLengthsMemory']]"
   ]
  },
  {
   "cell_type": "code",
   "execution_count": null,
   "metadata": {},
   "outputs": [],
   "source": [
    "results_au_32bit['TreeMemoryUniqueOnly'].corr(results_au_32bit['Match'])"
   ]
  },
  {
   "cell_type": "code",
   "execution_count": null,
   "metadata": {},
   "outputs": [],
   "source": [
    "results_au_32bit['TreeMemoryUniqueOnly'].corr(results_au_32bit['Find'])"
   ]
  },
  {
   "cell_type": "code",
   "execution_count": null,
   "metadata": {},
   "outputs": [],
   "source": [
    "results_au_32bit['TreeMemoryUniqueOnly'].corr(results_au_32bit['Build'])"
   ]
  },
  {
   "cell_type": "code",
   "execution_count": null,
   "metadata": {},
   "outputs": [],
   "source": [
    "results_tokyo['ChildrenMemory'].corr(results_au_32bit['Cost'])"
   ]
  },
  {
   "cell_type": "code",
   "execution_count": null,
   "metadata": {},
   "outputs": [],
   "source": [
    "results_au_32bit['ChildrenMemory'].corr(results_au_32bit['Cost'])"
   ]
  },
  {
   "cell_type": "code",
   "execution_count": null,
   "metadata": {},
   "outputs": [],
   "source": [
    "results_au_32bit['Match'].corr(results_au_32bit['Cost'])"
   ]
  },
  {
   "cell_type": "code",
   "execution_count": null,
   "metadata": {},
   "outputs": [],
   "source": [
    "results_tokyo['Match'].corr(results_au_32bit['Cost'])"
   ]
  },
  {
   "cell_type": "code",
   "execution_count": null,
   "metadata": {
    "scrolled": true
   },
   "outputs": [],
   "source": [
    "results_tokyo.columns"
   ]
  },
  {
   "cell_type": "code",
   "execution_count": null,
   "metadata": {},
   "outputs": [],
   "source": [
    "# results_tokyo[['Config', 'Build', 'Cost', 'Percent', 'TreeMemory','BuildAndFind', 'Match', 'Find', 'RandomMatch', 'RandomSortedMatch']]"
   ]
  },
  {
   "cell_type": "code",
   "execution_count": null,
   "metadata": {},
   "outputs": [],
   "source": [
    "# results_au_32bit[['Config', 'Build', 'TreeMemory', 'Match', 'Find','BuildAndFind','RandomCount', 'RandomMatch', 'RandomSort', 'RandomSortedMatch', 'HitRate', 'Cost', 'Percent']]"
   ]
  }
 ],
 "metadata": {
  "kernelspec": {
   "display_name": "Python 3",
   "language": "python",
   "name": "python3"
  },
  "language_info": {
   "codemirror_mode": {
    "name": "ipython",
    "version": 3
   },
   "file_extension": ".py",
   "mimetype": "text/x-python",
   "name": "python",
   "nbconvert_exporter": "python",
   "pygments_lexer": "ipython3",
   "version": "3.7.1"
  }
 },
 "nbformat": 4,
 "nbformat_minor": 2
}
